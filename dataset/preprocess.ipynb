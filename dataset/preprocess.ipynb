{
 "cells": [
  {
   "cell_type": "code",
   "execution_count": 5,
   "id": "4a6f3912",
   "metadata": {},
   "outputs": [],
   "source": [
    "import os\n",
    "import re\n",
    "import torch\n",
    "import random\n",
    "import nltk\n",
    "from pyvi import ViTokenizer\n",
    "from collections import Counter\n",
    "from torch.utils.data import Dataset, DataLoader, random_split\n",
    "from torch.nn.utils.rnn import pad_sequence"
   ]
  },
  {
   "cell_type": "code",
   "execution_count": 6,
   "id": "c4eb734b",
   "metadata": {},
   "outputs": [],
   "source": [
    "# 1. Tokenizers\n",
    "def tokenize_en(text):\n",
    "    return text.lower().strip().split()\n",
    "\n",
    "def tokenize_vi(text):\n",
    "    return ViTokenizer.tokenize(text.lower()).split()"
   ]
  },
  {
   "cell_type": "code",
   "execution_count": 7,
   "id": "ee218319",
   "metadata": {},
   "outputs": [],
   "source": [
    "# 2. Vocab builder\n",
    "def build_vocab(tokenized_sentences, min_freq=2, specials=[\"<PAD>\", \"<SOS>\", \"<EOS>\", \"<UNK>\"]):\n",
    "    counter = Counter()\n",
    "    for tokens in tokenized_sentences:\n",
    "        counter.update(tokens)\n",
    "    vocab = {token: idx for idx, token in enumerate(specials)}\n",
    "    for token, freq in counter.items():\n",
    "        if freq >= min_freq and token not in vocab:\n",
    "            vocab[token] = len(vocab)\n",
    "    return vocab"
   ]
  },
  {
   "cell_type": "code",
   "execution_count": 8,
   "id": "dc366caa",
   "metadata": {},
   "outputs": [],
   "source": [
    "# 3. Encode sentence\n",
    "def encode(tokens, vocab, sos=\"<SOS>\", eos=\"<EOS>\"):\n",
    "    ids = [vocab.get(sos)]\n",
    "    ids += [vocab.get(t, vocab.get(\"<UNK>\")) for t in tokens]\n",
    "    ids.append(vocab.get(eos))\n",
    "    return ids"
   ]
  },
  {
   "cell_type": "code",
   "execution_count": 9,
   "id": "863c6830",
   "metadata": {},
   "outputs": [],
   "source": [
    "# 4. PyTorch Dataset\n",
    "class TranslationDataset(Dataset):\n",
    "    def __init__(self, src_lines, tgt_lines, src_vocab, tgt_vocab):\n",
    "        self.src_lines = src_lines\n",
    "        self.tgt_lines = tgt_lines\n",
    "        self.src_vocab = src_vocab\n",
    "        self.tgt_vocab = tgt_vocab\n",
    "\n",
    "    def __len__(self):\n",
    "        return len(self.src_lines)\n",
    "\n",
    "    def __getitem__(self, idx):\n",
    "        src_tokens = tokenize_en(self.src_lines[idx])\n",
    "        tgt_tokens = tokenize_vi(self.tgt_lines[idx])\n",
    "        src_ids = torch.tensor(encode(src_tokens, self.src_vocab), dtype=torch.long)\n",
    "        tgt_ids = torch.tensor(encode(tgt_tokens, self.tgt_vocab), dtype=torch.long)\n",
    "        return src_ids, tgt_ids"
   ]
  },
  {
   "cell_type": "code",
   "execution_count": 10,
   "id": "8dd8f877",
   "metadata": {},
   "outputs": [],
   "source": [
    "# 5. Collate function\n",
    "def collate_fn(batch, pad_idx):\n",
    "    src_batch, tgt_batch = zip(*batch)\n",
    "    src_batch = pad_sequence(src_batch, padding_value=pad_idx, batch_first=True)\n",
    "    tgt_batch = pad_sequence(tgt_batch, padding_value=pad_idx, batch_first=True)\n",
    "    return src_batch, tgt_batch"
   ]
  },
  {
   "cell_type": "code",
   "execution_count": 11,
   "id": "6f3386e5",
   "metadata": {},
   "outputs": [],
   "source": [
    "en_path=r\"D:\\Machine Translation\\dataset\\total\\combined.en\"\n",
    "vi_path=r\"D:\\Machine Translation\\dataset\\total\\combined.vi\""
   ]
  },
  {
   "cell_type": "code",
   "execution_count": 12,
   "id": "e1f2dde2",
   "metadata": {},
   "outputs": [],
   "source": [
    "with open(en_path, encoding=\"utf-8\") as f:\n",
    "    en_lines = [line.strip() for line in f if line.strip()]\n",
    "with open(vi_path, encoding=\"utf-8\") as f:\n",
    "    vi_lines = [line.strip() for line in f if line.strip()]"
   ]
  },
  {
   "cell_type": "code",
   "execution_count": null,
   "id": "b66d46ca",
   "metadata": {},
   "outputs": [
    {
     "name": "stdout",
     "output_type": "stream",
     "text": [
      "Longest sentence length (English): 625\n",
      "Longest sentence length (Vietnamese): 880\n",
      "All sentence lengths (English): {1, 2, 3, 4, 5, 6, 7, 8, 9, 10, 11, 12, 13, 14, 15, 16, 17, 18, 19, 20, 21, 22, 23, 24, 25, 26, 27, 28, 29, 30, 31, 32, 33, 34, 35, 36, 37, 38, 39, 40, 41, 42, 43, 44, 45, 46, 47, 48, 49, 50, 51, 52, 53, 54, 55, 56, 57, 58, 59, 60, 61, 62, 63, 64, 65, 66, 67, 68, 69, 70, 71, 72, 73, 74, 75, 76, 77, 78, 79, 80, 81, 82, 83, 84, 85, 86, 87, 88, 89, 90, 91, 92, 93, 94, 95, 96, 97, 98, 99, 100, 101, 102, 103, 104, 105, 106, 107, 108, 109, 110, 111, 112, 113, 114, 115, 116, 117, 118, 119, 120, 121, 122, 123, 124, 125, 126, 127, 128, 129, 130, 133, 135, 136, 137, 138, 139, 140, 141, 142, 143, 144, 145, 148, 150, 151, 152, 154, 157, 158, 159, 160, 161, 164, 165, 167, 168, 169, 170, 514, 173, 174, 176, 177, 178, 179, 181, 185, 190, 193, 194, 195, 202, 612, 208, 214, 216, 221, 553, 227, 229, 230, 232, 235, 237, 239, 241, 242, 557, 251, 260, 265, 269, 520, 288, 289, 296, 301, 309, 310, 313, 320, 331, 334, 340, 345, 351, 365, 625, 398, 411, 422, 439, 443, 448, 482, 496}\n",
      "All sentence lengths (Vietnamese): {1, 2, 3, 4, 5, 6, 7, 8, 9, 10, 11, 12, 13, 14, 15, 16, 17, 18, 19, 20, 21, 22, 23, 24, 25, 26, 27, 28, 29, 30, 31, 32, 33, 34, 35, 36, 37, 38, 39, 40, 41, 42, 43, 44, 45, 46, 47, 48, 49, 50, 51, 52, 53, 54, 55, 56, 57, 58, 59, 60, 61, 62, 63, 64, 65, 66, 67, 68, 69, 70, 71, 72, 73, 74, 75, 76, 77, 78, 79, 80, 81, 82, 83, 84, 85, 86, 87, 88, 89, 90, 91, 92, 93, 94, 95, 96, 97, 98, 99, 100, 101, 102, 103, 104, 105, 106, 107, 108, 109, 110, 111, 112, 113, 114, 115, 116, 117, 118, 119, 120, 121, 122, 123, 124, 125, 126, 127, 128, 129, 130, 131, 132, 133, 134, 135, 136, 137, 138, 139, 140, 141, 142, 143, 144, 145, 146, 148, 149, 150, 151, 152, 153, 154, 155, 156, 157, 158, 159, 160, 161, 162, 163, 164, 165, 166, 167, 168, 169, 172, 173, 174, 175, 177, 178, 544, 180, 181, 183, 186, 188, 190, 191, 192, 193, 199, 202, 203, 204, 714, 206, 207, 208, 209, 211, 212, 214, 215, 224, 232, 236, 239, 243, 246, 247, 257, 260, 519, 263, 265, 271, 665, 276, 278, 279, 284, 285, 287, 622, 292, 298, 300, 302, 341, 342, 354, 355, 880, 369, 378, 382, 524, 401, 403, 611, 410, 419, 425, 429, 597, 448, 465, 494, 498, 507}\n"
     ]
    }
   ],
   "source": [
    "# Check the length of the longest sentence\n",
    "max_length_en = max(len(tokenize_en(sentence)) for sentence in en_lines)\n",
    "max_length_vi = max(len(tokenize_vi(sentence)) for sentence in vi_lines)\n",
    "print(f\"Longest sentence length (English): {max_length_en}\")\n",
    "print(f\"Longest sentence length (Vietnamese): {max_length_vi}\")\n",
    "\n",
    "# Check all the lengths in the dataset\n",
    "lengths_en = [len(tokenize_en(sentence)) for sentence in en_lines]\n",
    "lengths_vi = [len(tokenize_vi(sentence)) for sentence in vi_lines]\n",
    "print(f\"All sentence lengths (English): {set(lengths_en)}\")\n",
    "print(f\"All sentence lengths (Vietnamese): {set(lengths_vi)}\")"
   ]
  },
  {
   "cell_type": "code",
   "execution_count": 20,
   "id": "1947cc8b",
   "metadata": {},
   "outputs": [
    {
     "data": {
      "image/png": "[encoded data removed]",
      "text/plain": [
       "<Figure size 1000x600 with 1 Axes>"
      ]
     },
     "metadata": {},
     "output_type": "display_data"
    },
    {
     "name": "stdout",
     "output_type": "stream",
     "text": [
      "Length Limit: 40 | English Retention: 95.49% | Vietnamese Retention: 92.75%\n",
      "Length Limit: 50 | English Retention: 98.14% | Vietnamese Retention: 96.74%\n",
      "Length Limit: 60 | English Retention: 99.16% | Vietnamese Retention: 98.48%\n",
      "Length Limit: 70 | English Retention: 99.61% | Vietnamese Retention: 99.23%\n",
      "Length Limit: 80 | English Retention: 99.79% | Vietnamese Retention: 99.60%\n",
      "Length Limit: 90 | English Retention: 99.88% | Vietnamese Retention: 99.77%\n",
      "Length Limit: 100 | English Retention: 99.93% | Vietnamese Retention: 99.86%\n"
     ]
    }
   ],
   "source": [
    "import matplotlib.pyplot as plt\n",
    "\n",
    "# Function to calculate the percentage of sentences retained for a given length limit\n",
    "def calculate_retention(lengths, limit):\n",
    "    return sum(1 for length in lengths if length <= limit) / len(lengths) * 100\n",
    "\n",
    "# Define a range of length limits to analyze\n",
    "length_limits = range(10, max(max_length_en, max_length_vi) + 1, 10)\n",
    "\n",
    "# Calculate retention percentages for English and Vietnamese datasets\n",
    "retention_en = [calculate_retention(lengths_en, limit) for limit in length_limits]\n",
    "retention_vi = [calculate_retention(lengths_vi, limit) for limit in length_limits]\n",
    "\n",
    "# Plot the retention percentages\n",
    "plt.figure(figsize=(10, 6))\n",
    "plt.plot(length_limits, retention_en, label=\"English\", marker='o')\n",
    "plt.plot(length_limits, retention_vi, label=\"Vietnamese\", marker='o')\n",
    "plt.axvline(x=max_length_en, color='blue', linestyle='--', label=f\"Max Length EN ({max_length_en})\")\n",
    "plt.axvline(x=max_length_vi, color='orange', linestyle='--', label=f\"Max Length VI ({max_length_vi})\")\n",
    "plt.title(\"Sentence Retention vs Length Limit\")\n",
    "plt.xlabel(\"Length Limit\")\n",
    "plt.ylabel(\"Retention Percentage (%)\")\n",
    "plt.legend()\n",
    "plt.grid()\n",
    "plt.show()\n",
    "\n",
    "# Print retention percentages for specific thresholds\n",
    "for limit in [40, 50, 60, 70, 80, 90, 100]:\n",
    "    retention_en_limit = calculate_retention(lengths_en, limit)\n",
    "    retention_vi_limit = calculate_retention(lengths_vi, limit)\n",
    "    print(f\"Length Limit: {limit} | English Retention: {retention_en_limit:.2f}% | Vietnamese Retention: {retention_vi_limit:.2f}%\")"
   ]
  },
  {
   "cell_type": "code",
   "execution_count": 21,
   "id": "39e492bb",
   "metadata": {},
   "outputs": [],
   "source": [
    "# 6. Main function\n",
    "def preprocess_and_save(en_path, vi_path, save_path, batch_size=32, min_freq=2,\n",
    "                        train_ratio=0.8, val_ratio=0.1, seed=42):\n",
    "    print(\"🔄 Loading raw data...\")\n",
    "    with open(en_path, encoding=\"utf-8\") as f:\n",
    "        en_lines = [line.strip() for line in f if line.strip()]\n",
    "    with open(vi_path, encoding=\"utf-8\") as f:\n",
    "        vi_lines = [line.strip() for line in f if line.strip()]\n",
    "\n",
    "    assert len(en_lines) == len(vi_lines), \"Số lượng câu không khớp!\"\n",
    "\n",
    "    MAX_LEN = 80\n",
    "\n",
    "    filtered_en = []\n",
    "    filtered_vi = []\n",
    "\n",
    "    for en, vi in zip(en_lines, vi_lines):\n",
    "        if len(en.split()) <= MAX_LEN and len(vi.split()) <= MAX_LEN:\n",
    "            filtered_en.append(en)\n",
    "            filtered_vi.append(vi)\n",
    "\n",
    "    en_lines = filtered_en\n",
    "    vi_lines = filtered_vi\n",
    "\n",
    "    print(\"🔄 Tokenizing...\")\n",
    "    tokenized_en = [tokenize_en(line) for line in en_lines]\n",
    "    tokenized_vi = [tokenize_vi(line) for line in vi_lines]\n",
    "\n",
    "    print(\"🔄 Building vocabularies...\")\n",
    "    vocab_en = build_vocab(tokenized_en, min_freq)\n",
    "    vocab_vi = build_vocab(tokenized_vi, min_freq)\n",
    "\n",
    "    pad_idx = vocab_en[\"<PAD>\"]\n",
    "\n",
    "    print(\"🔄 Creating full dataset...\")\n",
    "    full_dataset = TranslationDataset(en_lines, vi_lines, vocab_en, vocab_vi)\n",
    "\n",
    "    # 🔥 Chia tập train - val - test\n",
    "    total_size = len(full_dataset)\n",
    "    train_size = int(train_ratio * total_size)\n",
    "    val_size = int(val_ratio * total_size)\n",
    "    test_size = total_size - train_size - val_size\n",
    "\n",
    "    print(f\"📊 Dataset split: train={train_size}, val={val_size}, test={test_size}\")\n",
    "\n",
    "    # Đảm bảo chia reproducible\n",
    "    generator = torch.Generator().manual_seed(seed)\n",
    "    train_dataset, val_dataset, test_dataset = random_split(\n",
    "        full_dataset, [train_size, val_size, test_size], generator=generator\n",
    "    )\n",
    "\n",
    "    print(f\"💾 Saving to {save_path}\")\n",
    "    torch.save({\n",
    "        \"src_lines\": {\n",
    "            \"train\": [en_lines[i] for i in train_dataset.indices],\n",
    "            \"val\": [en_lines[i] for i in val_dataset.indices],\n",
    "            \"test\": [en_lines[i] for i in test_dataset.indices],\n",
    "        },\n",
    "        \"tgt_lines\": {\n",
    "            \"train\": [vi_lines[i] for i in train_dataset.indices],\n",
    "            \"val\": [vi_lines[i] for i in val_dataset.indices],\n",
    "            \"test\": [vi_lines[i] for i in test_dataset.indices],\n",
    "        },\n",
    "        \"vocab_en\": vocab_en,\n",
    "        \"vocab_vi\": vocab_vi,\n",
    "        \"pad_idx\": pad_idx,\n",
    "        \"params\": {\n",
    "            \"en_path\": en_path,\n",
    "            \"vi_path\": vi_path,\n",
    "            \"min_freq\": min_freq,\n",
    "            \"batch_size\": batch_size,\n",
    "            \"ratios\": {\n",
    "                \"train\": train_ratio,\n",
    "                \"val\": val_ratio,\n",
    "                \"test\": round(1 - train_ratio - val_ratio, 2)\n",
    "            },\n",
    "            \"seed\": seed\n",
    "        }\n",
    "    }, save_path)\n",
    "\n",
    "    print(\"✅ Preprocessing & splitting done!\")"
   ]
  },
  {
   "cell_type": "code",
   "execution_count": 22,
   "id": "35dfaf72",
   "metadata": {},
   "outputs": [
    {
     "name": "stdout",
     "output_type": "stream",
     "text": [
      "🔄 Loading raw data...\n",
      "🔄 Tokenizing...\n",
      "🔄 Building vocabularies...\n",
      "🔄 Creating full dataset...\n",
      "📊 Dataset split: train=262290, val=32786, test=32787\n",
      "💾 Saving to D:\\Machine Translation\\dataset\\total\\processed_data.pt\n",
      "✅ Preprocessing & splitting done!\n"
     ]
    }
   ],
   "source": [
    "preprocess_and_save(\n",
    "    en_path=r\"D:\\Machine Translation\\dataset\\total\\combined.en\",\n",
    "    vi_path=r\"D:\\Machine Translation\\dataset\\total\\combined.vi\",\n",
    "    save_path=r\"D:\\Machine Translation\\dataset\\total\\processed_data.pt\",\n",
    "    batch_size=32,\n",
    "    min_freq=2\n",
    ")"
   ]
  }
 ],
 "metadata": {
  "kernelspec": {
   "display_name": "Python 3",
   "language": "python",
   "name": "python3"
  },
  "language_info": {
   "codemirror_mode": {
    "name": "ipython",
    "version": 3
   },
   "file_extension": ".py",
   "mimetype": "text/x-python",
   "name": "python",
   "nbconvert_exporter": "python",
   "pygments_lexer": "ipython3",
   "version": "3.13.3"
  }
 },
 "nbformat": 4,
 "nbformat_minor": 5
}
