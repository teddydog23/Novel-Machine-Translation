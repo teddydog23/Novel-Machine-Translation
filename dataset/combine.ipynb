{
 "cells": [
  {
   "cell_type": "code",
   "execution_count": 1,
   "id": "a193dfc1",
   "metadata": {},
   "outputs": [],
   "source": [
    "import os"
   ]
  },
  {
   "cell_type": "code",
   "execution_count": 2,
   "id": "d1851841",
   "metadata": {},
   "outputs": [],
   "source": [
    "en_paths = [\n",
    "    r\"C:\\Users\\Admin\\OneDrive - Hanoi University of Science and Technology\\Desktop\\Machine Translation\\dataset\\TED\\TED2020.en-vi.en\",\n",
    "    r\"C:\\Users\\Admin\\OneDrive - Hanoi University of Science and Technology\\Desktop\\Machine Translation\\dataset\\Tatoeba\\Tatoeba.en-vi.en\",\n",
    "    # r\"C:\\Users\\Admin\\OneDrive - Hanoi University of Science and Technology\\Desktop\\Machine Translation\\dataset\\PhoMT\\detokenization\\train\\train.en\"\n",
    "]\n",
    "\n",
    "vi_paths = [\n",
    "    r\"C:\\Users\\Admin\\OneDrive - Hanoi University of Science and Technology\\Desktop\\Machine Translation\\dataset\\TED\\TED2020.en-vi.vi\",\n",
    "    r\"C:\\Users\\Admin\\OneDrive - Hanoi University of Science and Technology\\Desktop\\Machine Translation\\dataset\\Tatoeba\\Tatoeba.en-vi.vi\",\n",
    "    # r\"C:\\Users\\Admin\\OneDrive - Hanoi University of Science and Technology\\Desktop\\Machine Translation\\dataset\\PhoMT\\detokenization\\train\\train.vi\"\n",
    "]"
   ]
  },
  {
   "cell_type": "code",
   "execution_count": 3,
   "id": "b1fff0de",
   "metadata": {},
   "outputs": [],
   "source": [
    "output_en = r\"C:\\Users\\Admin\\OneDrive - Hanoi University of Science and Technology\\Desktop\\Machine Translation\\dataset\\total\\combined.en\"\n",
    "output_vi = r\"C:\\Users\\Admin\\OneDrive - Hanoi University of Science and Technology\\Desktop\\Machine Translation\\dataset\\total\\combined.vi\"\n",
    "os.makedirs(os.path.dirname(output_en), exist_ok=True)\n",
    "os.makedirs(os.path.dirname(output_vi), exist_ok=True)"
   ]
  },
  {
   "cell_type": "code",
   "execution_count": 4,
   "id": "6fb49871",
   "metadata": {},
   "outputs": [],
   "source": [
    "def combine_parallel_corpora(en_paths, vi_paths, output_en, output_vi):\n",
    "    assert len(en_paths) == len(vi_paths), \"⚠️ Số lượng file .en và .vi không khớp!\"\n",
    "    \n",
    "    with open(output_en, \"w\", encoding=\"utf-8\") as out_en, open(output_vi, \"w\", encoding=\"utf-8\") as out_vi:\n",
    "        total_pairs = 0\n",
    "\n",
    "        for en_file, vi_file in zip(en_paths, vi_paths):\n",
    "            with open(en_file, \"r\", encoding=\"utf-8\") as f_en, open(vi_file, \"r\", encoding=\"utf-8\") as f_vi:\n",
    "                en_lines = f_en.readlines()\n",
    "                vi_lines = f_vi.readlines()\n",
    "\n",
    "                if len(en_lines) != len(vi_lines):\n",
    "                    print(f\"⚠️ Warning: {os.path.basename(en_file)} và {os.path.basename(vi_file)} không có cùng số dòng!\")\n",
    "                    min_len = min(len(en_lines), len(vi_lines))\n",
    "                    en_lines = en_lines[:min_len]\n",
    "                    vi_lines = vi_lines[:min_len]\n",
    "\n",
    "                for en_line, vi_line in zip(en_lines, vi_lines):\n",
    "                    if en_line.strip() and vi_line.strip():  # bỏ dòng rỗng\n",
    "                        out_en.write(en_line.strip() + \"\\n\")\n",
    "                        out_vi.write(vi_line.strip() + \"\\n\")\n",
    "                        total_pairs += 1\n",
    "\n",
    "        print(f\"✅ Gộp xong! Tổng số cặp câu: {total_pairs}\")\n",
    "        print(f\"📄 File đầu ra: {output_en}\")\n",
    "        print(f\"📄 File đầu ra: {output_vi}\")"
   ]
  },
  {
   "cell_type": "code",
   "execution_count": 5,
   "id": "2b4d9195",
   "metadata": {},
   "outputs": [
    {
     "name": "stdout",
     "output_type": "stream",
     "text": [
      "✅ Gộp xong! Tổng số cặp câu: 330140\n",
      "📄 File đầu ra: C:\\Users\\Admin\\OneDrive - Hanoi University of Science and Technology\\Desktop\\Machine Translation\\dataset\\total\\combined.en\n",
      "📄 File đầu ra: C:\\Users\\Admin\\OneDrive - Hanoi University of Science and Technology\\Desktop\\Machine Translation\\dataset\\total\\combined.vi\n"
     ]
    }
   ],
   "source": [
    "combine_parallel_corpora(en_paths, vi_paths, output_en, output_vi)"
   ]
  }
 ],
 "metadata": {
  "kernelspec": {
   "display_name": "Python 3",
   "language": "python",
   "name": "python3"
  },
  "language_info": {
   "codemirror_mode": {
    "name": "ipython",
    "version": 3
   },
   "file_extension": ".py",
   "mimetype": "text/x-python",
   "name": "python",
   "nbconvert_exporter": "python",
   "pygments_lexer": "ipython3",
   "version": "3.13.3"
  }
 },
 "nbformat": 4,
 "nbformat_minor": 5
}
