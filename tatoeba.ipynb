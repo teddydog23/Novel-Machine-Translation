{
 "cells": [
  {
   "cell_type": "code",
   "execution_count": 2,
   "metadata": {},
   "outputs": [
    {
     "data": {
      "text/plain": [
       "True"
      ]
     },
     "execution_count": 2,
     "metadata": {},
     "output_type": "execute_result"
    }
   ],
   "source": [
    "import torch\n",
    "torch.cuda.is_available()"
   ]
  },
  {
   "cell_type": "code",
   "execution_count": 3,
   "metadata": {},
   "outputs": [
    {
     "name": "stdout",
     "output_type": "stream",
     "text": [
      "Combined file saved to C:\\Users\\Admin\\Downloads\\Tatoeba-en-vi.txt\\combine.txt\n"
     ]
    }
   ],
   "source": [
    "def combine_files(en_file_path, vi_file_path, output_file_path):\n",
    "    try:\n",
    "        with open(en_file_path, 'r', encoding='utf-8') as en_file, open(vi_file_path, 'r', encoding='utf-8') as vi_file:\n",
    "            en_lines = en_file.readlines()\n",
    "            vi_lines = vi_file.readlines()\n",
    "\n",
    "            if len(en_lines) != len(vi_lines):\n",
    "                print(\"Warning: The number of lines in the .en and .vi files do not match.\")\n",
    "                return\n",
    "\n",
    "            with open(output_file_path, 'w', encoding='utf-8') as output_file:\n",
    "                for en_line, vi_line in zip(en_lines, vi_lines):\n",
    "                    output_file.write(f\"{en_line.strip()}\\t{vi_line.strip()}\\n\")\n",
    "        \n",
    "        print(f\"Combined file saved to {output_file_path}\")\n",
    "    except Exception as e:\n",
    "        print(f\"An error occurred: {e}\")\n",
    "\n",
    "# Specify the paths to your .en and .vi files\n",
    "en_file_path = r\"C:\\Users\\Admin\\Downloads\\Tatoeba-en-vi.txt\\Tatoeba.en-vi.en\"\n",
    "vi_file_path = r\"C:\\Users\\Admin\\Downloads\\Tatoeba-en-vi.txt\\Tatoeba.en-vi.vi\"\n",
    "output_file_path = r\"C:\\Users\\Admin\\Downloads\\Tatoeba-en-vi.txt\\combine.txt\"\n",
    "\n",
    "# Call the function to combine the files\n",
    "combine_files(en_file_path, vi_file_path, output_file_path)"
   ]
  }
 ],
 "metadata": {
  "kernelspec": {
   "display_name": "Python 3",
   "language": "python",
   "name": "python3"
  },
  "language_info": {
   "codemirror_mode": {
    "name": "ipython",
    "version": 3
   },
   "file_extension": ".py",
   "mimetype": "text/x-python",
   "name": "python",
   "nbconvert_exporter": "python",
   "pygments_lexer": "ipython3",
   "version": "3.13.2"
  }
 },
 "nbformat": 4,
 "nbformat_minor": 2
}
